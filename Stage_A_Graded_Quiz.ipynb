{
  "nbformat": 4,
  "nbformat_minor": 0,
  "metadata": {
    "colab": {
      "provenance": [],
      "authorship_tag": "ABX9TyPlsZ1c+rhTKiaEAWrK/7m7",
      "include_colab_link": true
    },
    "kernelspec": {
      "name": "python3",
      "display_name": "Python 3"
    },
    "language_info": {
      "name": "python"
    }
  },
  "cells": [
    {
      "cell_type": "markdown",
      "metadata": {
        "id": "view-in-github",
        "colab_type": "text"
      },
      "source": [
        "<a href=\"https://colab.research.google.com/github/christianchimezie/Hamoye-Repo/blob/main/Stage_A_Graded_Quiz.ipynb\" target=\"_parent\"><img src=\"https://colab.research.google.com/assets/colab-badge.svg\" alt=\"Open In Colab\"/></a>"
      ]
    },
    {
      "cell_type": "code",
      "execution_count": 1,
      "metadata": {
        "id": "ftLsV_IkobRv"
      },
      "outputs": [],
      "source": [
        "# import libraries \n",
        "\n",
        "import numpy as np\n",
        "import pandas as pd"
      ]
    },
    {
      "cell_type": "code",
      "source": [
        "# # Read CSV (comma-separated) file into DataFrame\n",
        "\n",
        "food_data = pd.read_csv(\"https://github.com/HamoyeHQ/HDSC-Introduction-to-Python-for-machine-learning/files/7768140/FoodBalanceSheets_E_Africa_NOFLAG.csv\",encoding = \"latin-1\")"
      ],
      "metadata": {
        "id": "h_XmGJABoutN"
      },
      "execution_count": 2,
      "outputs": []
    },
    {
      "cell_type": "code",
      "source": [
        "# view dataframe shape and first 5 observations\n",
        "\n",
        "print(food_data.shape)\n",
        "food_data.head()"
      ],
      "metadata": {
        "colab": {
          "base_uri": "https://localhost:8080/",
          "height": 224
        },
        "id": "w1ODMl5Y8Zpx",
        "outputId": "8ed29708-b749-4c4c-f88c-0cae19677fe6"
      },
      "execution_count": 3,
      "outputs": [
        {
          "output_type": "stream",
          "name": "stdout",
          "text": [
            "(60943, 12)\n"
          ]
        },
        {
          "output_type": "execute_result",
          "data": {
            "text/plain": [
              "   Area Code     Area  Item Code         Item  Element Code  \\\n",
              "0          4  Algeria       2501   Population           511   \n",
              "1          4  Algeria       2501   Population          5301   \n",
              "2          4  Algeria       2901  Grand Total           664   \n",
              "3          4  Algeria       2901  Grand Total           674   \n",
              "4          4  Algeria       2901  Grand Total           684   \n",
              "\n",
              "                                  Element             Unit     Y2014  \\\n",
              "0           Total Population - Both sexes     1000 persons  38924.00   \n",
              "1                Domestic supply quantity      1000 tonnes      0.00   \n",
              "2           Food supply (kcal/capita/day)  kcal/capita/day   3377.00   \n",
              "3  Protein supply quantity (g/capita/day)     g/capita/day     94.90   \n",
              "4      Fat supply quantity (g/capita/day)     g/capita/day     80.06   \n",
              "\n",
              "      Y2015     Y2016     Y2017     Y2018  \n",
              "0  39728.00  40551.00  41389.00  42228.00  \n",
              "1      0.00      0.00      0.00      0.00  \n",
              "2   3379.00   3372.00   3341.00   3322.00  \n",
              "3     94.35     94.72     92.82     91.83  \n",
              "4     79.36     77.40     80.19     77.28  "
            ],
            "text/html": [
              "\n",
              "  <div id=\"df-2b6eaf3f-2c10-4246-961a-98a1e04bac1d\">\n",
              "    <div class=\"colab-df-container\">\n",
              "      <div>\n",
              "<style scoped>\n",
              "    .dataframe tbody tr th:only-of-type {\n",
              "        vertical-align: middle;\n",
              "    }\n",
              "\n",
              "    .dataframe tbody tr th {\n",
              "        vertical-align: top;\n",
              "    }\n",
              "\n",
              "    .dataframe thead th {\n",
              "        text-align: right;\n",
              "    }\n",
              "</style>\n",
              "<table border=\"1\" class=\"dataframe\">\n",
              "  <thead>\n",
              "    <tr style=\"text-align: right;\">\n",
              "      <th></th>\n",
              "      <th>Area Code</th>\n",
              "      <th>Area</th>\n",
              "      <th>Item Code</th>\n",
              "      <th>Item</th>\n",
              "      <th>Element Code</th>\n",
              "      <th>Element</th>\n",
              "      <th>Unit</th>\n",
              "      <th>Y2014</th>\n",
              "      <th>Y2015</th>\n",
              "      <th>Y2016</th>\n",
              "      <th>Y2017</th>\n",
              "      <th>Y2018</th>\n",
              "    </tr>\n",
              "  </thead>\n",
              "  <tbody>\n",
              "    <tr>\n",
              "      <th>0</th>\n",
              "      <td>4</td>\n",
              "      <td>Algeria</td>\n",
              "      <td>2501</td>\n",
              "      <td>Population</td>\n",
              "      <td>511</td>\n",
              "      <td>Total Population - Both sexes</td>\n",
              "      <td>1000 persons</td>\n",
              "      <td>38924.00</td>\n",
              "      <td>39728.00</td>\n",
              "      <td>40551.00</td>\n",
              "      <td>41389.00</td>\n",
              "      <td>42228.00</td>\n",
              "    </tr>\n",
              "    <tr>\n",
              "      <th>1</th>\n",
              "      <td>4</td>\n",
              "      <td>Algeria</td>\n",
              "      <td>2501</td>\n",
              "      <td>Population</td>\n",
              "      <td>5301</td>\n",
              "      <td>Domestic supply quantity</td>\n",
              "      <td>1000 tonnes</td>\n",
              "      <td>0.00</td>\n",
              "      <td>0.00</td>\n",
              "      <td>0.00</td>\n",
              "      <td>0.00</td>\n",
              "      <td>0.00</td>\n",
              "    </tr>\n",
              "    <tr>\n",
              "      <th>2</th>\n",
              "      <td>4</td>\n",
              "      <td>Algeria</td>\n",
              "      <td>2901</td>\n",
              "      <td>Grand Total</td>\n",
              "      <td>664</td>\n",
              "      <td>Food supply (kcal/capita/day)</td>\n",
              "      <td>kcal/capita/day</td>\n",
              "      <td>3377.00</td>\n",
              "      <td>3379.00</td>\n",
              "      <td>3372.00</td>\n",
              "      <td>3341.00</td>\n",
              "      <td>3322.00</td>\n",
              "    </tr>\n",
              "    <tr>\n",
              "      <th>3</th>\n",
              "      <td>4</td>\n",
              "      <td>Algeria</td>\n",
              "      <td>2901</td>\n",
              "      <td>Grand Total</td>\n",
              "      <td>674</td>\n",
              "      <td>Protein supply quantity (g/capita/day)</td>\n",
              "      <td>g/capita/day</td>\n",
              "      <td>94.90</td>\n",
              "      <td>94.35</td>\n",
              "      <td>94.72</td>\n",
              "      <td>92.82</td>\n",
              "      <td>91.83</td>\n",
              "    </tr>\n",
              "    <tr>\n",
              "      <th>4</th>\n",
              "      <td>4</td>\n",
              "      <td>Algeria</td>\n",
              "      <td>2901</td>\n",
              "      <td>Grand Total</td>\n",
              "      <td>684</td>\n",
              "      <td>Fat supply quantity (g/capita/day)</td>\n",
              "      <td>g/capita/day</td>\n",
              "      <td>80.06</td>\n",
              "      <td>79.36</td>\n",
              "      <td>77.40</td>\n",
              "      <td>80.19</td>\n",
              "      <td>77.28</td>\n",
              "    </tr>\n",
              "  </tbody>\n",
              "</table>\n",
              "</div>\n",
              "      <button class=\"colab-df-convert\" onclick=\"convertToInteractive('df-2b6eaf3f-2c10-4246-961a-98a1e04bac1d')\"\n",
              "              title=\"Convert this dataframe to an interactive table.\"\n",
              "              style=\"display:none;\">\n",
              "        \n",
              "  <svg xmlns=\"http://www.w3.org/2000/svg\" height=\"24px\"viewBox=\"0 0 24 24\"\n",
              "       width=\"24px\">\n",
              "    <path d=\"M0 0h24v24H0V0z\" fill=\"none\"/>\n",
              "    <path d=\"M18.56 5.44l.94 2.06.94-2.06 2.06-.94-2.06-.94-.94-2.06-.94 2.06-2.06.94zm-11 1L8.5 8.5l.94-2.06 2.06-.94-2.06-.94L8.5 2.5l-.94 2.06-2.06.94zm10 10l.94 2.06.94-2.06 2.06-.94-2.06-.94-.94-2.06-.94 2.06-2.06.94z\"/><path d=\"M17.41 7.96l-1.37-1.37c-.4-.4-.92-.59-1.43-.59-.52 0-1.04.2-1.43.59L10.3 9.45l-7.72 7.72c-.78.78-.78 2.05 0 2.83L4 21.41c.39.39.9.59 1.41.59.51 0 1.02-.2 1.41-.59l7.78-7.78 2.81-2.81c.8-.78.8-2.07 0-2.86zM5.41 20L4 18.59l7.72-7.72 1.47 1.35L5.41 20z\"/>\n",
              "  </svg>\n",
              "      </button>\n",
              "      \n",
              "  <style>\n",
              "    .colab-df-container {\n",
              "      display:flex;\n",
              "      flex-wrap:wrap;\n",
              "      gap: 12px;\n",
              "    }\n",
              "\n",
              "    .colab-df-convert {\n",
              "      background-color: #E8F0FE;\n",
              "      border: none;\n",
              "      border-radius: 50%;\n",
              "      cursor: pointer;\n",
              "      display: none;\n",
              "      fill: #1967D2;\n",
              "      height: 32px;\n",
              "      padding: 0 0 0 0;\n",
              "      width: 32px;\n",
              "    }\n",
              "\n",
              "    .colab-df-convert:hover {\n",
              "      background-color: #E2EBFA;\n",
              "      box-shadow: 0px 1px 2px rgba(60, 64, 67, 0.3), 0px 1px 3px 1px rgba(60, 64, 67, 0.15);\n",
              "      fill: #174EA6;\n",
              "    }\n",
              "\n",
              "    [theme=dark] .colab-df-convert {\n",
              "      background-color: #3B4455;\n",
              "      fill: #D2E3FC;\n",
              "    }\n",
              "\n",
              "    [theme=dark] .colab-df-convert:hover {\n",
              "      background-color: #434B5C;\n",
              "      box-shadow: 0px 1px 3px 1px rgba(0, 0, 0, 0.15);\n",
              "      filter: drop-shadow(0px 1px 2px rgba(0, 0, 0, 0.3));\n",
              "      fill: #FFFFFF;\n",
              "    }\n",
              "  </style>\n",
              "\n",
              "      <script>\n",
              "        const buttonEl =\n",
              "          document.querySelector('#df-2b6eaf3f-2c10-4246-961a-98a1e04bac1d button.colab-df-convert');\n",
              "        buttonEl.style.display =\n",
              "          google.colab.kernel.accessAllowed ? 'block' : 'none';\n",
              "\n",
              "        async function convertToInteractive(key) {\n",
              "          const element = document.querySelector('#df-2b6eaf3f-2c10-4246-961a-98a1e04bac1d');\n",
              "          const dataTable =\n",
              "            await google.colab.kernel.invokeFunction('convertToInteractive',\n",
              "                                                     [key], {});\n",
              "          if (!dataTable) return;\n",
              "\n",
              "          const docLinkHtml = 'Like what you see? Visit the ' +\n",
              "            '<a target=\"_blank\" href=https://colab.research.google.com/notebooks/data_table.ipynb>data table notebook</a>'\n",
              "            + ' to learn more about interactive tables.';\n",
              "          element.innerHTML = '';\n",
              "          dataTable['output_type'] = 'display_data';\n",
              "          await google.colab.output.renderOutput(dataTable, element);\n",
              "          const docLink = document.createElement('div');\n",
              "          docLink.innerHTML = docLinkHtml;\n",
              "          element.appendChild(docLink);\n",
              "        }\n",
              "      </script>\n",
              "    </div>\n",
              "  </div>\n",
              "  "
            ]
          },
          "metadata": {},
          "execution_count": 3
        }
      ]
    },
    {
      "cell_type": "code",
      "source": [
        "# A concise summary of the dataframe,including the number of non-null values in each column\n",
        "\n",
        "food_data.info()"
      ],
      "metadata": {
        "colab": {
          "base_uri": "https://localhost:8080/"
        },
        "id": "gUSzCz5rpnMO",
        "outputId": "62c8e7b0-8bd6-4ff5-c59f-4a0e4241c557"
      },
      "execution_count": 4,
      "outputs": [
        {
          "output_type": "stream",
          "name": "stdout",
          "text": [
            "<class 'pandas.core.frame.DataFrame'>\n",
            "RangeIndex: 60943 entries, 0 to 60942\n",
            "Data columns (total 12 columns):\n",
            " #   Column        Non-Null Count  Dtype  \n",
            "---  ------        --------------  -----  \n",
            " 0   Area Code     60943 non-null  int64  \n",
            " 1   Area          60943 non-null  object \n",
            " 2   Item Code     60943 non-null  int64  \n",
            " 3   Item          60943 non-null  object \n",
            " 4   Element Code  60943 non-null  int64  \n",
            " 5   Element       60943 non-null  object \n",
            " 6   Unit          60943 non-null  object \n",
            " 7   Y2014         59354 non-null  float64\n",
            " 8   Y2015         59395 non-null  float64\n",
            " 9   Y2016         59408 non-null  float64\n",
            " 10  Y2017         59437 non-null  float64\n",
            " 11  Y2018         59507 non-null  float64\n",
            "dtypes: float64(5), int64(3), object(4)\n",
            "memory usage: 5.6+ MB\n"
          ]
        }
      ]
    },
    {
      "cell_type": "code",
      "source": [
        "# dataframe statistics\n",
        "\n",
        "food_data.describe()"
      ],
      "metadata": {
        "colab": {
          "base_uri": "https://localhost:8080/",
          "height": 300
        },
        "id": "Eq5WIaM69ifF",
        "outputId": "b66e6f01-6b8f-4029-e116-7c6cae58ab3e"
      },
      "execution_count": 5,
      "outputs": [
        {
          "output_type": "execute_result",
          "data": {
            "text/plain": [
              "          Area Code     Item Code  Element Code          Y2014          Y2015  \\\n",
              "count  60943.000000  60943.000000  60943.000000   59354.000000   59395.000000   \n",
              "mean     134.265576   2687.176706   3814.856456     134.196282     135.235966   \n",
              "std       72.605709    146.055739   2212.007033    1567.663696    1603.403984   \n",
              "min        4.000000   2501.000000    511.000000   -1796.000000   -3161.000000   \n",
              "25%       74.000000   2562.000000    684.000000       0.000000       0.000000   \n",
              "50%      136.000000   2630.000000   5142.000000       0.090000       0.080000   \n",
              "75%      195.000000   2775.000000   5511.000000       8.340000       8.460000   \n",
              "max      276.000000   2961.000000   5911.000000  176405.000000  181137.000000   \n",
              "\n",
              "               Y2016          Y2017          Y2018  \n",
              "count   59408.000000   59437.000000   59507.000000  \n",
              "mean      136.555222     140.917765     143.758381  \n",
              "std      1640.007194    1671.862359    1710.782658  \n",
              "min     -3225.000000   -1582.000000   -3396.000000  \n",
              "25%         0.000000       0.000000       0.000000  \n",
              "50%         0.080000       0.100000       0.070000  \n",
              "75%         8.430000       9.000000       9.000000  \n",
              "max    185960.000000  190873.000000  195875.000000  "
            ],
            "text/html": [
              "\n",
              "  <div id=\"df-4dca4e04-a89a-456a-8069-89cda1e926f6\">\n",
              "    <div class=\"colab-df-container\">\n",
              "      <div>\n",
              "<style scoped>\n",
              "    .dataframe tbody tr th:only-of-type {\n",
              "        vertical-align: middle;\n",
              "    }\n",
              "\n",
              "    .dataframe tbody tr th {\n",
              "        vertical-align: top;\n",
              "    }\n",
              "\n",
              "    .dataframe thead th {\n",
              "        text-align: right;\n",
              "    }\n",
              "</style>\n",
              "<table border=\"1\" class=\"dataframe\">\n",
              "  <thead>\n",
              "    <tr style=\"text-align: right;\">\n",
              "      <th></th>\n",
              "      <th>Area Code</th>\n",
              "      <th>Item Code</th>\n",
              "      <th>Element Code</th>\n",
              "      <th>Y2014</th>\n",
              "      <th>Y2015</th>\n",
              "      <th>Y2016</th>\n",
              "      <th>Y2017</th>\n",
              "      <th>Y2018</th>\n",
              "    </tr>\n",
              "  </thead>\n",
              "  <tbody>\n",
              "    <tr>\n",
              "      <th>count</th>\n",
              "      <td>60943.000000</td>\n",
              "      <td>60943.000000</td>\n",
              "      <td>60943.000000</td>\n",
              "      <td>59354.000000</td>\n",
              "      <td>59395.000000</td>\n",
              "      <td>59408.000000</td>\n",
              "      <td>59437.000000</td>\n",
              "      <td>59507.000000</td>\n",
              "    </tr>\n",
              "    <tr>\n",
              "      <th>mean</th>\n",
              "      <td>134.265576</td>\n",
              "      <td>2687.176706</td>\n",
              "      <td>3814.856456</td>\n",
              "      <td>134.196282</td>\n",
              "      <td>135.235966</td>\n",
              "      <td>136.555222</td>\n",
              "      <td>140.917765</td>\n",
              "      <td>143.758381</td>\n",
              "    </tr>\n",
              "    <tr>\n",
              "      <th>std</th>\n",
              "      <td>72.605709</td>\n",
              "      <td>146.055739</td>\n",
              "      <td>2212.007033</td>\n",
              "      <td>1567.663696</td>\n",
              "      <td>1603.403984</td>\n",
              "      <td>1640.007194</td>\n",
              "      <td>1671.862359</td>\n",
              "      <td>1710.782658</td>\n",
              "    </tr>\n",
              "    <tr>\n",
              "      <th>min</th>\n",
              "      <td>4.000000</td>\n",
              "      <td>2501.000000</td>\n",
              "      <td>511.000000</td>\n",
              "      <td>-1796.000000</td>\n",
              "      <td>-3161.000000</td>\n",
              "      <td>-3225.000000</td>\n",
              "      <td>-1582.000000</td>\n",
              "      <td>-3396.000000</td>\n",
              "    </tr>\n",
              "    <tr>\n",
              "      <th>25%</th>\n",
              "      <td>74.000000</td>\n",
              "      <td>2562.000000</td>\n",
              "      <td>684.000000</td>\n",
              "      <td>0.000000</td>\n",
              "      <td>0.000000</td>\n",
              "      <td>0.000000</td>\n",
              "      <td>0.000000</td>\n",
              "      <td>0.000000</td>\n",
              "    </tr>\n",
              "    <tr>\n",
              "      <th>50%</th>\n",
              "      <td>136.000000</td>\n",
              "      <td>2630.000000</td>\n",
              "      <td>5142.000000</td>\n",
              "      <td>0.090000</td>\n",
              "      <td>0.080000</td>\n",
              "      <td>0.080000</td>\n",
              "      <td>0.100000</td>\n",
              "      <td>0.070000</td>\n",
              "    </tr>\n",
              "    <tr>\n",
              "      <th>75%</th>\n",
              "      <td>195.000000</td>\n",
              "      <td>2775.000000</td>\n",
              "      <td>5511.000000</td>\n",
              "      <td>8.340000</td>\n",
              "      <td>8.460000</td>\n",
              "      <td>8.430000</td>\n",
              "      <td>9.000000</td>\n",
              "      <td>9.000000</td>\n",
              "    </tr>\n",
              "    <tr>\n",
              "      <th>max</th>\n",
              "      <td>276.000000</td>\n",
              "      <td>2961.000000</td>\n",
              "      <td>5911.000000</td>\n",
              "      <td>176405.000000</td>\n",
              "      <td>181137.000000</td>\n",
              "      <td>185960.000000</td>\n",
              "      <td>190873.000000</td>\n",
              "      <td>195875.000000</td>\n",
              "    </tr>\n",
              "  </tbody>\n",
              "</table>\n",
              "</div>\n",
              "      <button class=\"colab-df-convert\" onclick=\"convertToInteractive('df-4dca4e04-a89a-456a-8069-89cda1e926f6')\"\n",
              "              title=\"Convert this dataframe to an interactive table.\"\n",
              "              style=\"display:none;\">\n",
              "        \n",
              "  <svg xmlns=\"http://www.w3.org/2000/svg\" height=\"24px\"viewBox=\"0 0 24 24\"\n",
              "       width=\"24px\">\n",
              "    <path d=\"M0 0h24v24H0V0z\" fill=\"none\"/>\n",
              "    <path d=\"M18.56 5.44l.94 2.06.94-2.06 2.06-.94-2.06-.94-.94-2.06-.94 2.06-2.06.94zm-11 1L8.5 8.5l.94-2.06 2.06-.94-2.06-.94L8.5 2.5l-.94 2.06-2.06.94zm10 10l.94 2.06.94-2.06 2.06-.94-2.06-.94-.94-2.06-.94 2.06-2.06.94z\"/><path d=\"M17.41 7.96l-1.37-1.37c-.4-.4-.92-.59-1.43-.59-.52 0-1.04.2-1.43.59L10.3 9.45l-7.72 7.72c-.78.78-.78 2.05 0 2.83L4 21.41c.39.39.9.59 1.41.59.51 0 1.02-.2 1.41-.59l7.78-7.78 2.81-2.81c.8-.78.8-2.07 0-2.86zM5.41 20L4 18.59l7.72-7.72 1.47 1.35L5.41 20z\"/>\n",
              "  </svg>\n",
              "      </button>\n",
              "      \n",
              "  <style>\n",
              "    .colab-df-container {\n",
              "      display:flex;\n",
              "      flex-wrap:wrap;\n",
              "      gap: 12px;\n",
              "    }\n",
              "\n",
              "    .colab-df-convert {\n",
              "      background-color: #E8F0FE;\n",
              "      border: none;\n",
              "      border-radius: 50%;\n",
              "      cursor: pointer;\n",
              "      display: none;\n",
              "      fill: #1967D2;\n",
              "      height: 32px;\n",
              "      padding: 0 0 0 0;\n",
              "      width: 32px;\n",
              "    }\n",
              "\n",
              "    .colab-df-convert:hover {\n",
              "      background-color: #E2EBFA;\n",
              "      box-shadow: 0px 1px 2px rgba(60, 64, 67, 0.3), 0px 1px 3px 1px rgba(60, 64, 67, 0.15);\n",
              "      fill: #174EA6;\n",
              "    }\n",
              "\n",
              "    [theme=dark] .colab-df-convert {\n",
              "      background-color: #3B4455;\n",
              "      fill: #D2E3FC;\n",
              "    }\n",
              "\n",
              "    [theme=dark] .colab-df-convert:hover {\n",
              "      background-color: #434B5C;\n",
              "      box-shadow: 0px 1px 3px 1px rgba(0, 0, 0, 0.15);\n",
              "      filter: drop-shadow(0px 1px 2px rgba(0, 0, 0, 0.3));\n",
              "      fill: #FFFFFF;\n",
              "    }\n",
              "  </style>\n",
              "\n",
              "      <script>\n",
              "        const buttonEl =\n",
              "          document.querySelector('#df-4dca4e04-a89a-456a-8069-89cda1e926f6 button.colab-df-convert');\n",
              "        buttonEl.style.display =\n",
              "          google.colab.kernel.accessAllowed ? 'block' : 'none';\n",
              "\n",
              "        async function convertToInteractive(key) {\n",
              "          const element = document.querySelector('#df-4dca4e04-a89a-456a-8069-89cda1e926f6');\n",
              "          const dataTable =\n",
              "            await google.colab.kernel.invokeFunction('convertToInteractive',\n",
              "                                                     [key], {});\n",
              "          if (!dataTable) return;\n",
              "\n",
              "          const docLinkHtml = 'Like what you see? Visit the ' +\n",
              "            '<a target=\"_blank\" href=https://colab.research.google.com/notebooks/data_table.ipynb>data table notebook</a>'\n",
              "            + ' to learn more about interactive tables.';\n",
              "          element.innerHTML = '';\n",
              "          dataTable['output_type'] = 'display_data';\n",
              "          await google.colab.output.renderOutput(dataTable, element);\n",
              "          const docLink = document.createElement('div');\n",
              "          docLink.innerHTML = docLinkHtml;\n",
              "          element.appendChild(docLink);\n",
              "        }\n",
              "      </script>\n",
              "    </div>\n",
              "  </div>\n",
              "  "
            ]
          },
          "metadata": {},
          "execution_count": 5
        }
      ]
    },
    {
      "cell_type": "code",
      "source": [
        "# What is the total number and percentage of missing data in 2014 to 3 decimal places?\n",
        "\n",
        "print(food_data.Y2014.isnull().sum())\n",
        "\n",
        "percent_missing = food_data.Y2014.isnull().sum() * 100 / len(food_data)\n",
        "print(\"Rounding up to 3 decimal places:\", format(percent_missing,\".3f\"))"
      ],
      "metadata": {
        "colab": {
          "base_uri": "https://localhost:8080/"
        },
        "id": "jzHzeIL4qBmD",
        "outputId": "91f1b9c5-8fa3-4967-b191-f8756de08246"
      },
      "execution_count": 6,
      "outputs": [
        {
          "output_type": "stream",
          "name": "stdout",
          "text": [
            "1589\n",
            "Rounding up to 3 decimal places: 2.607\n"
          ]
        }
      ]
    },
    {
      "cell_type": "code",
      "source": [
        "# What would be the output for?\n",
        "\n",
        "S = [['him','sell'],[90,28,43]]\n",
        "S[0][1][1]"
      ],
      "metadata": {
        "colab": {
          "base_uri": "https://localhost:8080/",
          "height": 35
        },
        "id": "1O0m7PfbqTpu",
        "outputId": "5739e2ef-a0c6-47ed-f9db-ae89afcd8670"
      },
      "execution_count": 7,
      "outputs": [
        {
          "output_type": "execute_result",
          "data": {
            "text/plain": [
              "'e'"
            ],
            "application/vnd.google.colaboratory.intrinsic+json": {
              "type": "string"
            }
          },
          "metadata": {},
          "execution_count": 7
        }
      ]
    },
    {
      "cell_type": "code",
      "source": [
        "#How would you select  the elements in bold and italics from the array?\n",
        "\n",
        "array = np.array([[94,89,63],[93,92,48],[92,94,56]])\n",
        "\n",
        "array[:2,1:]"
      ],
      "metadata": {
        "colab": {
          "base_uri": "https://localhost:8080/"
        },
        "id": "t4snsFTXqmAj",
        "outputId": "5137c7e9-a3f7-4b98-dbae-18606d74fc7a"
      },
      "execution_count": 8,
      "outputs": [
        {
          "output_type": "execute_result",
          "data": {
            "text/plain": [
              "array([[89, 63],\n",
              "       [92, 48]])"
            ]
          },
          "metadata": {},
          "execution_count": 8
        }
      ]
    },
    {
      "cell_type": "code",
      "source": [
        "# What is the total number of unique countries in the dataset?\n",
        "\n",
        "food_data.Area.nunique()"
      ],
      "metadata": {
        "colab": {
          "base_uri": "https://localhost:8080/"
        },
        "id": "qMLIHtl8roXA",
        "outputId": "aae700e9-9c43-4202-e83b-0e5596787478"
      },
      "execution_count": 9,
      "outputs": [
        {
          "output_type": "execute_result",
          "data": {
            "text/plain": [
              "49"
            ]
          },
          "metadata": {},
          "execution_count": 9
        }
      ]
    },
    {
      "cell_type": "markdown",
      "source": [
        "### Answer the following questions based on the African food production dataset provided by the FAO website already provided\n",
        "\n",
        "## What is the total sum of Wine produced in 2015 and 2018 respectively?"
      ],
      "metadata": {
        "id": "cle_CsMoIqn4"
      }
    },
    {
      "cell_type": "code",
      "source": [
        "food_data.groupby('Item')['Y2015'].sum()"
      ],
      "metadata": {
        "colab": {
          "base_uri": "https://localhost:8080/"
        },
        "id": "lPl5Z8XMryMI",
        "outputId": "f970e5c8-0b7e-49f1-81cc-a518c29f3841"
      },
      "execution_count": 10,
      "outputs": [
        {
          "output_type": "execute_result",
          "data": {
            "text/plain": [
              "Item\n",
              "Alcohol, Non-Food        2180.00\n",
              "Alcoholic Beverages     98783.72\n",
              "Animal Products         11811.73\n",
              "Animal fats            200675.72\n",
              "Apples and products     10559.15\n",
              "                         ...    \n",
              "Vegetables, Other      158104.08\n",
              "Vegetal Products       107064.17\n",
              "Wheat and products     234710.51\n",
              "Wine                     4251.81\n",
              "Yams                   203151.78\n",
              "Name: Y2015, Length: 119, dtype: float64"
            ]
          },
          "metadata": {},
          "execution_count": 10
        }
      ]
    },
    {
      "cell_type": "code",
      "source": [
        "food_data.groupby('Item')['Y2018'].sum()"
      ],
      "metadata": {
        "colab": {
          "base_uri": "https://localhost:8080/"
        },
        "id": "852ycil3sl4E",
        "outputId": "bb9620af-d271-4e8b-8bbe-a420d55d50a7"
      },
      "execution_count": 11,
      "outputs": [
        {
          "output_type": "execute_result",
          "data": {
            "text/plain": [
              "Item\n",
              "Alcohol, Non-Food        2293.00\n",
              "Alcoholic Beverages     97847.27\n",
              "Animal Products         11578.61\n",
              "Animal fats            269648.27\n",
              "Apples and products      9640.51\n",
              "                         ...    \n",
              "Vegetables, Other      163987.21\n",
              "Vegetal Products       107775.39\n",
              "Wheat and products     242645.19\n",
              "Wine                     4039.32\n",
              "Yams                   221272.09\n",
              "Name: Y2018, Length: 119, dtype: float64"
            ]
          },
          "metadata": {},
          "execution_count": 11
        }
      ]
    },
    {
      "cell_type": "code",
      "source": [
        "# What is the mean and standard deviation across the whole dataset for the year 2017 to 2 decimal places?\n",
        "\n",
        "print(food_data['Y2017'].mean())\n",
        "print(food_data['Y2017'].std())"
      ],
      "metadata": {
        "colab": {
          "base_uri": "https://localhost:8080/"
        },
        "id": "mBWTibF_s2qa",
        "outputId": "a0718db4-b018-48d8-cc64-f7fbf2c17bbb"
      },
      "execution_count": 12,
      "outputs": [
        {
          "output_type": "stream",
          "name": "stdout",
          "text": [
            "140.9177648602722\n",
            "1671.8623590567995\n"
          ]
        }
      ]
    },
    {
      "cell_type": "code",
      "source": [
        "# Perform a groupby operation on ‘Element’.  What is the total number of the sum of Processing in 2017?\n",
        "\n",
        "food_data.groupby('Element')['Y2017'].sum()"
      ],
      "metadata": {
        "colab": {
          "base_uri": "https://localhost:8080/"
        },
        "id": "kNDpbvP_uxWc",
        "outputId": "9b0955cf-4540-4ee0-b237-a4331cc5a2e4"
      },
      "execution_count": 13,
      "outputs": [
        {
          "output_type": "execute_result",
          "data": {
            "text/plain": [
              "Element\n",
              "Domestic supply quantity                  2088198.10\n",
              "Export Quantity                            182338.80\n",
              "Fat supply quantity (g/capita/day)          10253.84\n",
              "Feed                                       223705.68\n",
              "Food                                      1258888.28\n",
              "Food supply (kcal/capita/day)              454681.00\n",
              "Food supply quantity (kg/capita/yr)         48690.04\n",
              "Import Quantity                            294559.09\n",
              "Losses                                     160614.00\n",
              "Other uses (non-food)                       91645.97\n",
              "Processing                                 292836.00\n",
              "Production                                2030056.89\n",
              "Protein supply quantity (g/capita/day)      11842.45\n",
              "Residuals                                   35500.00\n",
              "Seed                                        24870.14\n",
              "Stock Variation                             54316.91\n",
              "Total Population - Both sexes             1112641.00\n",
              "Tourist consumption                            91.00\n",
              "Name: Y2017, dtype: float64"
            ]
          },
          "metadata": {},
          "execution_count": 13
        }
      ]
    },
    {
      "cell_type": "code",
      "source": [
        "# Perform a groupby operation on ‘Element’.  What year has the highest sum of Stock Variation?\n",
        "\n",
        "food_data.groupby('Element').sum()"
      ],
      "metadata": {
        "colab": {
          "base_uri": "https://localhost:8080/",
          "height": 645
        },
        "id": "kciD9yfsu7k9",
        "outputId": "ffeb63ae-fdb2-4922-8f62-b62874e821ad"
      },
      "execution_count": 14,
      "outputs": [
        {
          "output_type": "execute_result",
          "data": {
            "text/plain": [
              "                                        Area Code  Item Code  Element Code  \\\n",
              "Element                                                                      \n",
              "Domestic supply quantity                   708993   14197445      28068795   \n",
              "Export Quantity                            599910   11840553      26026133   \n",
              "Fat supply quantity (g/capita/day)         675050   13535000       3435732   \n",
              "Feed                                       176272    3538507       7282199   \n",
              "Food                                       663295   13285035      25406622   \n",
              "Food supply (kcal/capita/day)              674057   13511060       3329296   \n",
              "Food supply quantity (kg/capita/yr)        658446   13185401       3163725   \n",
              "Import Quantity                            688174   13795966      28834929   \n",
              "Losses                                     274353    5424803      10292107   \n",
              "Other uses (non-food)                      235554    4729749       8926728   \n",
              "Processing                                 271940    5350416      10313310   \n",
              "Production                                 526751   10450053      21388191   \n",
              "Protein supply quantity (g/capita/day)     675050   13535000       3385502   \n",
              "Residuals                                  623271   12421089      24066350   \n",
              "Seed                                       103537    2035933       4211574   \n",
              "Stock Variation                            571566   11329527      21464704   \n",
              "Total Population - Both sexes                6020     112545         22995   \n",
              "Tourist consumption                         50308    1486528       2869905   \n",
              "\n",
              "                                             Y2014       Y2015       Y2016  \\\n",
              "Element                                                                      \n",
              "Domestic supply quantity                1996716.35  2021493.55  2044842.70   \n",
              "Export Quantity                          150020.64   157614.47   151920.46   \n",
              "Fat supply quantity (g/capita/day)        10225.56    10235.74    10102.77   \n",
              "Feed                                     216927.89   225050.22   228958.65   \n",
              "Food                                    1212332.49  1232361.10  1247022.17   \n",
              "Food supply (kcal/capita/day)            454257.00   453383.00   451810.00   \n",
              "Food supply quantity (kg/capita/yr)       49650.63    49345.13    48985.28   \n",
              "Import Quantity                          274144.48   267018.46   286582.78   \n",
              "Losses                                   153223.00   155439.00   157787.00   \n",
              "Other uses (non-food)                     78718.13    66254.41    69563.68   \n",
              "Processing                               282923.00   287929.00   280631.00   \n",
              "Production                              1931287.75  1947019.39  1943537.15   \n",
              "Protein supply quantity (g/capita/day)    11836.46    11833.95    11779.69   \n",
              "Residuals                                 30149.00    30045.00    37224.00   \n",
              "Seed                                      21922.92    23976.82    23389.20   \n",
              "Stock Variation                           58749.83    34910.99    33140.12   \n",
              "Total Population - Both sexes           1031585.00  1058081.00  1085107.00   \n",
              "Tourist consumption                         416.00      349.00       89.00   \n",
              "\n",
              "                                             Y2017       Y2018  \n",
              "Element                                                         \n",
              "Domestic supply quantity                2088198.10  2161192.10  \n",
              "Export Quantity                          182338.80   181594.80  \n",
              "Fat supply quantity (g/capita/day)        10253.84    10258.69  \n",
              "Feed                                     223705.68   233489.68  \n",
              "Food                                    1258888.28  1303841.28  \n",
              "Food supply (kcal/capita/day)            454681.00   455261.00  \n",
              "Food supply quantity (kg/capita/yr)       48690.04    49056.85  \n",
              "Import Quantity                          294559.09   287997.09  \n",
              "Losses                                   160614.00   163902.00  \n",
              "Other uses (non-food)                     91645.97    91300.97  \n",
              "Processing                               292836.00   308429.00  \n",
              "Production                              2030056.89  2075072.89  \n",
              "Protein supply quantity (g/capita/day)    11842.45    11833.56  \n",
              "Residuals                                 35500.00    34864.00  \n",
              "Seed                                      24870.14    25263.14  \n",
              "Stock Variation                           54316.91    20577.91  \n",
              "Total Population - Both sexes           1112641.00  1140605.00  \n",
              "Tourist consumption                          91.00       90.00  "
            ],
            "text/html": [
              "\n",
              "  <div id=\"df-a33417e7-21ad-4f5b-a04c-2e5fe4e0296b\">\n",
              "    <div class=\"colab-df-container\">\n",
              "      <div>\n",
              "<style scoped>\n",
              "    .dataframe tbody tr th:only-of-type {\n",
              "        vertical-align: middle;\n",
              "    }\n",
              "\n",
              "    .dataframe tbody tr th {\n",
              "        vertical-align: top;\n",
              "    }\n",
              "\n",
              "    .dataframe thead th {\n",
              "        text-align: right;\n",
              "    }\n",
              "</style>\n",
              "<table border=\"1\" class=\"dataframe\">\n",
              "  <thead>\n",
              "    <tr style=\"text-align: right;\">\n",
              "      <th></th>\n",
              "      <th>Area Code</th>\n",
              "      <th>Item Code</th>\n",
              "      <th>Element Code</th>\n",
              "      <th>Y2014</th>\n",
              "      <th>Y2015</th>\n",
              "      <th>Y2016</th>\n",
              "      <th>Y2017</th>\n",
              "      <th>Y2018</th>\n",
              "    </tr>\n",
              "    <tr>\n",
              "      <th>Element</th>\n",
              "      <th></th>\n",
              "      <th></th>\n",
              "      <th></th>\n",
              "      <th></th>\n",
              "      <th></th>\n",
              "      <th></th>\n",
              "      <th></th>\n",
              "      <th></th>\n",
              "    </tr>\n",
              "  </thead>\n",
              "  <tbody>\n",
              "    <tr>\n",
              "      <th>Domestic supply quantity</th>\n",
              "      <td>708993</td>\n",
              "      <td>14197445</td>\n",
              "      <td>28068795</td>\n",
              "      <td>1996716.35</td>\n",
              "      <td>2021493.55</td>\n",
              "      <td>2044842.70</td>\n",
              "      <td>2088198.10</td>\n",
              "      <td>2161192.10</td>\n",
              "    </tr>\n",
              "    <tr>\n",
              "      <th>Export Quantity</th>\n",
              "      <td>599910</td>\n",
              "      <td>11840553</td>\n",
              "      <td>26026133</td>\n",
              "      <td>150020.64</td>\n",
              "      <td>157614.47</td>\n",
              "      <td>151920.46</td>\n",
              "      <td>182338.80</td>\n",
              "      <td>181594.80</td>\n",
              "    </tr>\n",
              "    <tr>\n",
              "      <th>Fat supply quantity (g/capita/day)</th>\n",
              "      <td>675050</td>\n",
              "      <td>13535000</td>\n",
              "      <td>3435732</td>\n",
              "      <td>10225.56</td>\n",
              "      <td>10235.74</td>\n",
              "      <td>10102.77</td>\n",
              "      <td>10253.84</td>\n",
              "      <td>10258.69</td>\n",
              "    </tr>\n",
              "    <tr>\n",
              "      <th>Feed</th>\n",
              "      <td>176272</td>\n",
              "      <td>3538507</td>\n",
              "      <td>7282199</td>\n",
              "      <td>216927.89</td>\n",
              "      <td>225050.22</td>\n",
              "      <td>228958.65</td>\n",
              "      <td>223705.68</td>\n",
              "      <td>233489.68</td>\n",
              "    </tr>\n",
              "    <tr>\n",
              "      <th>Food</th>\n",
              "      <td>663295</td>\n",
              "      <td>13285035</td>\n",
              "      <td>25406622</td>\n",
              "      <td>1212332.49</td>\n",
              "      <td>1232361.10</td>\n",
              "      <td>1247022.17</td>\n",
              "      <td>1258888.28</td>\n",
              "      <td>1303841.28</td>\n",
              "    </tr>\n",
              "    <tr>\n",
              "      <th>Food supply (kcal/capita/day)</th>\n",
              "      <td>674057</td>\n",
              "      <td>13511060</td>\n",
              "      <td>3329296</td>\n",
              "      <td>454257.00</td>\n",
              "      <td>453383.00</td>\n",
              "      <td>451810.00</td>\n",
              "      <td>454681.00</td>\n",
              "      <td>455261.00</td>\n",
              "    </tr>\n",
              "    <tr>\n",
              "      <th>Food supply quantity (kg/capita/yr)</th>\n",
              "      <td>658446</td>\n",
              "      <td>13185401</td>\n",
              "      <td>3163725</td>\n",
              "      <td>49650.63</td>\n",
              "      <td>49345.13</td>\n",
              "      <td>48985.28</td>\n",
              "      <td>48690.04</td>\n",
              "      <td>49056.85</td>\n",
              "    </tr>\n",
              "    <tr>\n",
              "      <th>Import Quantity</th>\n",
              "      <td>688174</td>\n",
              "      <td>13795966</td>\n",
              "      <td>28834929</td>\n",
              "      <td>274144.48</td>\n",
              "      <td>267018.46</td>\n",
              "      <td>286582.78</td>\n",
              "      <td>294559.09</td>\n",
              "      <td>287997.09</td>\n",
              "    </tr>\n",
              "    <tr>\n",
              "      <th>Losses</th>\n",
              "      <td>274353</td>\n",
              "      <td>5424803</td>\n",
              "      <td>10292107</td>\n",
              "      <td>153223.00</td>\n",
              "      <td>155439.00</td>\n",
              "      <td>157787.00</td>\n",
              "      <td>160614.00</td>\n",
              "      <td>163902.00</td>\n",
              "    </tr>\n",
              "    <tr>\n",
              "      <th>Other uses (non-food)</th>\n",
              "      <td>235554</td>\n",
              "      <td>4729749</td>\n",
              "      <td>8926728</td>\n",
              "      <td>78718.13</td>\n",
              "      <td>66254.41</td>\n",
              "      <td>69563.68</td>\n",
              "      <td>91645.97</td>\n",
              "      <td>91300.97</td>\n",
              "    </tr>\n",
              "    <tr>\n",
              "      <th>Processing</th>\n",
              "      <td>271940</td>\n",
              "      <td>5350416</td>\n",
              "      <td>10313310</td>\n",
              "      <td>282923.00</td>\n",
              "      <td>287929.00</td>\n",
              "      <td>280631.00</td>\n",
              "      <td>292836.00</td>\n",
              "      <td>308429.00</td>\n",
              "    </tr>\n",
              "    <tr>\n",
              "      <th>Production</th>\n",
              "      <td>526751</td>\n",
              "      <td>10450053</td>\n",
              "      <td>21388191</td>\n",
              "      <td>1931287.75</td>\n",
              "      <td>1947019.39</td>\n",
              "      <td>1943537.15</td>\n",
              "      <td>2030056.89</td>\n",
              "      <td>2075072.89</td>\n",
              "    </tr>\n",
              "    <tr>\n",
              "      <th>Protein supply quantity (g/capita/day)</th>\n",
              "      <td>675050</td>\n",
              "      <td>13535000</td>\n",
              "      <td>3385502</td>\n",
              "      <td>11836.46</td>\n",
              "      <td>11833.95</td>\n",
              "      <td>11779.69</td>\n",
              "      <td>11842.45</td>\n",
              "      <td>11833.56</td>\n",
              "    </tr>\n",
              "    <tr>\n",
              "      <th>Residuals</th>\n",
              "      <td>623271</td>\n",
              "      <td>12421089</td>\n",
              "      <td>24066350</td>\n",
              "      <td>30149.00</td>\n",
              "      <td>30045.00</td>\n",
              "      <td>37224.00</td>\n",
              "      <td>35500.00</td>\n",
              "      <td>34864.00</td>\n",
              "    </tr>\n",
              "    <tr>\n",
              "      <th>Seed</th>\n",
              "      <td>103537</td>\n",
              "      <td>2035933</td>\n",
              "      <td>4211574</td>\n",
              "      <td>21922.92</td>\n",
              "      <td>23976.82</td>\n",
              "      <td>23389.20</td>\n",
              "      <td>24870.14</td>\n",
              "      <td>25263.14</td>\n",
              "    </tr>\n",
              "    <tr>\n",
              "      <th>Stock Variation</th>\n",
              "      <td>571566</td>\n",
              "      <td>11329527</td>\n",
              "      <td>21464704</td>\n",
              "      <td>58749.83</td>\n",
              "      <td>34910.99</td>\n",
              "      <td>33140.12</td>\n",
              "      <td>54316.91</td>\n",
              "      <td>20577.91</td>\n",
              "    </tr>\n",
              "    <tr>\n",
              "      <th>Total Population - Both sexes</th>\n",
              "      <td>6020</td>\n",
              "      <td>112545</td>\n",
              "      <td>22995</td>\n",
              "      <td>1031585.00</td>\n",
              "      <td>1058081.00</td>\n",
              "      <td>1085107.00</td>\n",
              "      <td>1112641.00</td>\n",
              "      <td>1140605.00</td>\n",
              "    </tr>\n",
              "    <tr>\n",
              "      <th>Tourist consumption</th>\n",
              "      <td>50308</td>\n",
              "      <td>1486528</td>\n",
              "      <td>2869905</td>\n",
              "      <td>416.00</td>\n",
              "      <td>349.00</td>\n",
              "      <td>89.00</td>\n",
              "      <td>91.00</td>\n",
              "      <td>90.00</td>\n",
              "    </tr>\n",
              "  </tbody>\n",
              "</table>\n",
              "</div>\n",
              "      <button class=\"colab-df-convert\" onclick=\"convertToInteractive('df-a33417e7-21ad-4f5b-a04c-2e5fe4e0296b')\"\n",
              "              title=\"Convert this dataframe to an interactive table.\"\n",
              "              style=\"display:none;\">\n",
              "        \n",
              "  <svg xmlns=\"http://www.w3.org/2000/svg\" height=\"24px\"viewBox=\"0 0 24 24\"\n",
              "       width=\"24px\">\n",
              "    <path d=\"M0 0h24v24H0V0z\" fill=\"none\"/>\n",
              "    <path d=\"M18.56 5.44l.94 2.06.94-2.06 2.06-.94-2.06-.94-.94-2.06-.94 2.06-2.06.94zm-11 1L8.5 8.5l.94-2.06 2.06-.94-2.06-.94L8.5 2.5l-.94 2.06-2.06.94zm10 10l.94 2.06.94-2.06 2.06-.94-2.06-.94-.94-2.06-.94 2.06-2.06.94z\"/><path d=\"M17.41 7.96l-1.37-1.37c-.4-.4-.92-.59-1.43-.59-.52 0-1.04.2-1.43.59L10.3 9.45l-7.72 7.72c-.78.78-.78 2.05 0 2.83L4 21.41c.39.39.9.59 1.41.59.51 0 1.02-.2 1.41-.59l7.78-7.78 2.81-2.81c.8-.78.8-2.07 0-2.86zM5.41 20L4 18.59l7.72-7.72 1.47 1.35L5.41 20z\"/>\n",
              "  </svg>\n",
              "      </button>\n",
              "      \n",
              "  <style>\n",
              "    .colab-df-container {\n",
              "      display:flex;\n",
              "      flex-wrap:wrap;\n",
              "      gap: 12px;\n",
              "    }\n",
              "\n",
              "    .colab-df-convert {\n",
              "      background-color: #E8F0FE;\n",
              "      border: none;\n",
              "      border-radius: 50%;\n",
              "      cursor: pointer;\n",
              "      display: none;\n",
              "      fill: #1967D2;\n",
              "      height: 32px;\n",
              "      padding: 0 0 0 0;\n",
              "      width: 32px;\n",
              "    }\n",
              "\n",
              "    .colab-df-convert:hover {\n",
              "      background-color: #E2EBFA;\n",
              "      box-shadow: 0px 1px 2px rgba(60, 64, 67, 0.3), 0px 1px 3px 1px rgba(60, 64, 67, 0.15);\n",
              "      fill: #174EA6;\n",
              "    }\n",
              "\n",
              "    [theme=dark] .colab-df-convert {\n",
              "      background-color: #3B4455;\n",
              "      fill: #D2E3FC;\n",
              "    }\n",
              "\n",
              "    [theme=dark] .colab-df-convert:hover {\n",
              "      background-color: #434B5C;\n",
              "      box-shadow: 0px 1px 3px 1px rgba(0, 0, 0, 0.15);\n",
              "      filter: drop-shadow(0px 1px 2px rgba(0, 0, 0, 0.3));\n",
              "      fill: #FFFFFF;\n",
              "    }\n",
              "  </style>\n",
              "\n",
              "      <script>\n",
              "        const buttonEl =\n",
              "          document.querySelector('#df-a33417e7-21ad-4f5b-a04c-2e5fe4e0296b button.colab-df-convert');\n",
              "        buttonEl.style.display =\n",
              "          google.colab.kernel.accessAllowed ? 'block' : 'none';\n",
              "\n",
              "        async function convertToInteractive(key) {\n",
              "          const element = document.querySelector('#df-a33417e7-21ad-4f5b-a04c-2e5fe4e0296b');\n",
              "          const dataTable =\n",
              "            await google.colab.kernel.invokeFunction('convertToInteractive',\n",
              "                                                     [key], {});\n",
              "          if (!dataTable) return;\n",
              "\n",
              "          const docLinkHtml = 'Like what you see? Visit the ' +\n",
              "            '<a target=\"_blank\" href=https://colab.research.google.com/notebooks/data_table.ipynb>data table notebook</a>'\n",
              "            + ' to learn more about interactive tables.';\n",
              "          element.innerHTML = '';\n",
              "          dataTable['output_type'] = 'display_data';\n",
              "          await google.colab.output.renderOutput(dataTable, element);\n",
              "          const docLink = document.createElement('div');\n",
              "          docLink.innerHTML = docLinkHtml;\n",
              "          element.appendChild(docLink);\n",
              "        }\n",
              "      </script>\n",
              "    </div>\n",
              "  </div>\n",
              "  "
            ]
          },
          "metadata": {},
          "execution_count": 14
        }
      ]
    },
    {
      "cell_type": "code",
      "source": [
        "# How would you assign element 8 from the list to a variable x?\n",
        "\n",
        "y = [(2,4),(7,8),(1,5,9)]\n",
        "x=y[1][-1]\n",
        "x"
      ],
      "metadata": {
        "colab": {
          "base_uri": "https://localhost:8080/"
        },
        "id": "oRGLE7csvOXO",
        "outputId": "44b2714b-c3f9-4585-8f92-1489cf939698"
      },
      "execution_count": 15,
      "outputs": [
        {
          "output_type": "execute_result",
          "data": {
            "text/plain": [
              "8"
            ]
          },
          "metadata": {},
          "execution_count": 15
        }
      ]
    },
    {
      "cell_type": "code",
      "source": [
        "# Select columns ‘Y2017’ and ‘Area’, Perform a groupby operation on ‘Area’.  Which of these Areas had the 7th lowest sum in 2017?\n",
        "\n",
        "df1 = food_data.groupby('Area')['Y2017'].sum().sort_values(ascending=False).nsmallest(7)\n",
        "df1"
      ],
      "metadata": {
        "colab": {
          "base_uri": "https://localhost:8080/"
        },
        "id": "El8gkmRdwra7",
        "outputId": "1cbf4d56-154b-4abd-97bb-283d24b9abd5"
      },
      "execution_count": 16,
      "outputs": [
        {
          "output_type": "execute_result",
          "data": {
            "text/plain": [
              "Area\n",
              "Sudan (former)               0.00\n",
              "Ethiopia PDR                 0.00\n",
              "Comoros                     59.84\n",
              "Seychelles                 442.34\n",
              "Sao Tome and Principe    12662.63\n",
              "Cabo Verde               14650.74\n",
              "Guinea-Bissau            19102.77\n",
              "Name: Y2017, dtype: float64"
            ]
          },
          "metadata": {},
          "execution_count": 16
        }
      ]
    },
    {
      "cell_type": "code",
      "source": [
        "# Select columns ‘Y2017’ and ‘Area’, Perform a groupby operation on ‘Area’.  Which of these Areas had the highest sum in 2017?\n",
        "df2 = food_data.groupby('Area')['Y2017'].sum().sort_values(ascending=False).nlargest(1)\n",
        "df2"
      ],
      "metadata": {
        "colab": {
          "base_uri": "https://localhost:8080/"
        },
        "id": "nFPySOduxJy7",
        "outputId": "6dd6a78e-c1c1-4718-98bb-c476d4d5c70c"
      },
      "execution_count": 17,
      "outputs": [
        {
          "output_type": "execute_result",
          "data": {
            "text/plain": [
              "Area\n",
              "Nigeria    1483268.23\n",
              "Name: Y2017, dtype: float64"
            ]
          },
          "metadata": {},
          "execution_count": 17
        }
      ]
    }
  ]
}